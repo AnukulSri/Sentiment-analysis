{
 "cells": [
  {
   "attachments": {},
   "cell_type": "markdown",
   "metadata": {},
   "source": [
    "## Afinn module\n",
    "- One of commonly used sentiment lexicon is the AFINN lexicon, which assigns a numerical score to each word based on its sentiment polarity. Positive words are assigned a positive score, while negative words are assigned a negative score. The sentiment score of a given text is then calculated by summing up the scores of all the words in the text."
   ]
  },
  {
   "cell_type": "code",
   "execution_count": 1,
   "metadata": {},
   "outputs": [
    {
     "name": "stdout",
     "output_type": "stream",
     "text": [
      "Positive sentiment\n",
      "Negative sentiment\n",
      "Neutral sentiment\n"
     ]
    }
   ],
   "source": [
    "from afinn import Afinn\n",
    "\n",
    "afinn = Afinn()\n",
    "\n",
    "# text = \"I love this product! It works great and is very easy to use.\"\n",
    "# text = \"It was the worst product\"\n",
    "li = ['I love this product! It works great and is very easy to use.',\"It was the worst product\",\"It was okay okay\"]\n",
    "p=0\n",
    "for i in li:\n",
    " sentiment_score = afinn.score(i)\n",
    "#  p=p+sentiment_score\n",
    "\n",
    " if sentiment_score > 0:\n",
    "    print(\"Positive sentiment\")\n",
    " elif sentiment_score < 0:\n",
    "    print(\"Negative sentiment\")\n",
    " else: \n",
    "    print(\"Neutral sentiment\")\n"
   ]
  }
 ],
 "metadata": {
  "kernelspec": {
   "display_name": "base",
   "language": "python",
   "name": "python3"
  },
  "language_info": {
   "codemirror_mode": {
    "name": "ipython",
    "version": 3
   },
   "file_extension": ".py",
   "mimetype": "text/x-python",
   "name": "python",
   "nbconvert_exporter": "python",
   "pygments_lexer": "ipython3",
   "version": "3.9.12"
  },
  "orig_nbformat": 4
 },
 "nbformat": 4,
 "nbformat_minor": 2
}
